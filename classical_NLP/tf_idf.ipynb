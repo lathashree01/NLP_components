{
 "cells": [
  {
   "cell_type": "code",
   "execution_count": null,
   "id": "504cc5ba",
   "metadata": {},
   "outputs": [],
   "source": [
    "import numpy as np\n",
    "\n",
    "def compute_tf_idf(corpus, query):\n",
    "\t\"\"\"\n",
    "\tCompute TF-IDF scores for a query against a corpus of documents.\n",
    "    \n",
    "\t:param corpus: List of documents, where each document is a list of words\n",
    "\t:param query: List of words in the query\n",
    "\t:return: List of lists containing TF-IDF scores for the query words in each document\n",
    "\t\"\"\"\n",
    "\ttfs = []\n",
    "    docs_with_query = 0\n",
    "    total_docs = len(corpus)\n",
    "\n",
    "    for i in range(len(corpus)):\n",
    "        print(corpus[i])\n",
    "        if len(corpus[i]) == 0 or query not in corpus[i]:\n",
    "            tfs.append(0.0)\n",
    "        else:\n",
    "            print(\"else\")\n",
    "            docs_with_query += 1\n",
    "            total = len(corpus[i])\n",
    "            mapp = Counter(corpus[i])\n",
    "            tfs.append(mapp[query]/total)\n",
    "\n",
    "    print(tfs)\n",
    "    print(total_docs, docs_with_query)\n",
    "\n",
    "    res = []\n",
    "    for tf in tfs:\n",
    "        if not total_docs or not docs_with_query:\n",
    "            res.append([0.0])\n",
    "            continue\n",
    "            \n",
    "        idf = np.log2(total_docs/docs_with_query)\n",
    "        tf_idf = round(tf*idf, 5)\n",
    "        res.append([tf_idf])\n",
    "\n",
    "    return res"
   ]
  }
 ],
 "metadata": {
  "language_info": {
   "name": "python"
  }
 },
 "nbformat": 4,
 "nbformat_minor": 5
}
